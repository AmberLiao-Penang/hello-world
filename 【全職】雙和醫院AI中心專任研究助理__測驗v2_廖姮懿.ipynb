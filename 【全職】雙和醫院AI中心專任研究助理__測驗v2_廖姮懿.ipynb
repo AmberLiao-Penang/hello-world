{
  "nbformat": 4,
  "nbformat_minor": 0,
  "metadata": {
    "colab": {
      "name": "【全職】雙和醫院AI中心專任研究助理 _測驗v2_廖姮懿.ipynb",
      "provenance": [],
      "collapsed_sections": [
        "1H3aXPFLyq7v",
        "X0xthVe-y3F3",
        "TWcZKTGmz1tc"
      ],
      "authorship_tag": "ABX9TyOWHh/AZz+LzBjzVT6uBcm1",
      "include_colab_link": true
    },
    "kernelspec": {
      "name": "python3",
      "display_name": "Python 3"
    },
    "language_info": {
      "name": "python"
    }
  },
  "cells": [
    {
      "cell_type": "markdown",
      "metadata": {
        "id": "view-in-github",
        "colab_type": "text"
      },
      "source": [
        "<a href=\"https://colab.research.google.com/github/AmberLiao-Penang/hello-world/blob/feature/%E3%80%90%E5%85%A8%E8%81%B7%E3%80%91%E9%9B%99%E5%92%8C%E9%86%AB%E9%99%A2AI%E4%B8%AD%E5%BF%83%E5%B0%88%E4%BB%BB%E7%A0%94%E7%A9%B6%E5%8A%A9%E7%90%86__%E6%B8%AC%E9%A9%97v2_%E5%BB%96%E5%A7%AE%E6%87%BF.ipynb\" target=\"_parent\"><img src=\"https://colab.research.google.com/assets/colab-badge.svg\" alt=\"Open In Colab\"/></a>"
      ]
    },
    {
      "cell_type": "markdown",
      "metadata": {
        "id": "1H3aXPFLyq7v"
      },
      "source": [
        "#資料匯入"
      ]
    },
    {
      "cell_type": "code",
      "metadata": {
        "colab": {
          "base_uri": "https://localhost:8080/"
        },
        "id": "-4fugS06ykJK",
        "outputId": "0b356505-3d9f-41cc-edd8-5f9cc48d4316"
      },
      "source": [
        "from google.colab import drive\n",
        "drive.mount('/content/drive')"
      ],
      "execution_count": 1,
      "outputs": [
        {
          "output_type": "stream",
          "text": [
            "Drive already mounted at /content/drive; to attempt to forcibly remount, call drive.mount(\"/content/drive\", force_remount=True).\n"
          ],
          "name": "stdout"
        }
      ]
    },
    {
      "cell_type": "code",
      "metadata": {
        "colab": {
          "base_uri": "https://localhost:8080/"
        },
        "id": "gyiAaIm2ykiZ",
        "outputId": "b76a51c2-1836-4204-a329-fc2cf6cbe0b3"
      },
      "source": [
        "import os\n",
        "os.chdir(\"/content/drive/My Drive\")\n",
        "!ls"
      ],
      "execution_count": 2,
      "outputs": [
        {
          "output_type": "stream",
          "text": [
            " 1_2.png\n",
            " 1..gdoc\n",
            "'2019.09.20 to do list'\n",
            " 20191129_Amber校稿照片\n",
            "'2021.03.20一日遊(四獸山).gmap'\n",
            " 20210630_吸塵器.mp4\n",
            "'2021通訊大賽-5G領航創新應用競賽-概念組企劃提案書_(報名延長) (1).gdoc'\n",
            "'2021通訊大賽-5G領航創新應用競賽-概念組企劃提案書_(報名延長).gdoc'\n",
            " 2.2.gdoc\n",
            " 2..gdoc\n",
            " 3.gdoc\n",
            " 407ha-ytazd.mp4\n",
            "'4400006_廖姮懿_LIAO HENG YI  (1).ppsm'\n",
            "'4400006_廖姮懿_LIAO HENG YI .gslides'\n",
            "'4400006_廖姮懿_LIAO HENG YI.gslides'\n",
            "'4400006_廖姮懿_LIAO HENG YI .ppsm'\n",
            "'4400006_廖姮懿_LIAO HENG YI (最終版).pptx'\n",
            "'5_QC files - Jennifer Li.gdoc'\n",
            " animation.gif\n",
            " ASUS_智慧電梯_宏匠實業_專案規劃工具.xlsx\n",
            " client_secret_265786710489-69ana3t66bl82bo967o5kkm67pj1smi2.apps.googleusercontent.com.json\n",
            "'Colab Notebooks'\n",
            "'Data Science Consulting by Slidesgo - 副本.gslides'\n",
            "'Data Studio_EdgeT.mp4'\n",
            " Deep-Surveillance-Monitor-Facial-Emotion-Age-Gender-Recognition-System\n",
            "'edge T.mp4'\n",
            " for_Test2\n",
            "'Google 地球'\n",
            " IMG_20170810_214426_971.jpg\n",
            "'No. 271 Heping East Road Section 2.m4a'\n",
            " 「opencv_gender_age_ipynb」的副本.ipynb\n",
            " R語言\n",
            " Square.gdoc\n",
            " Tesla_美國.gmap\n",
            " TF分享區\n",
            " TF檔案\n",
            "'TPO1-54 免費線上模考網站 (1).gdoc'\n",
            "'TPO1-54 免費線上模考網站.gdoc'\n",
            "'unknown path (ifttt)'\n",
            "'Vintage Disease by Slidesgo - 副本.gslides'\n",
            " yolov2.weights\n",
            " yolov3.weights\n",
            "'二十神社(15-20).pptx'\n",
            "'嗜氧運送培養基以較高溫度運送產前檢體可提升B群鏈球菌（Group B Streptococcus）的偵測效能.pdf'\n",
            " 大學\n",
            "'大江生醫_ 人事資料表_ 2021_廖姮懿_v2.pdf'\n",
            " 大江面試.gdoc\n",
            " 媽媽隨身碟\n",
            " 家教\n",
            " 履歷_廖姮懿.pdf\n",
            " 工作面試\n",
            "'日本文化心得(廖姮懿).docx'\n",
            "'智慧電梯_宏匠_0321 - 副本.pptx'\n",
            " 暑假實習\n",
            " 未命名的試算表.gsheet\n",
            " 未命名試算表.gsheet\n",
            "'※梁寧 -- “產品思維 產品思維 30 講”.gdoc'\n",
            "'梁寧課堂PPT_Fashion Pitch Deck by Slidesgo - 副本.gsheet'\n",
            " 植物病理學採集報告\n",
            "'歷年成績單_廖姮懿 (1).pdf'\n",
            " 歷年成績單_廖姮懿.pdf\n",
            "'疾病icon- 副本.gslides'\n",
            "'白石湖吊橋(步行路線).gmap'\n",
            " 碩士\n",
            " 線蟲寒假書面補齊.gdoc\n",
            " 線蟲採集報告.gdoc\n",
            " 自己的衣著多樣搭_資料.gdoc\n",
            " 自我介紹.docx\n",
            " 英國創新公司群研析_廖姮懿.gslides\n",
            " 華碩\n",
            " 設備使用紀錄表-ASUS.pdf\n"
          ],
          "name": "stdout"
        }
      ]
    },
    {
      "cell_type": "markdown",
      "metadata": {
        "id": "V4lCEmxHA9Dk"
      },
      "source": [
        "查看原始資料"
      ]
    },
    {
      "cell_type": "code",
      "metadata": {
        "id": "1AXs077symIy"
      },
      "source": [
        "data = open( \"/content/drive/MyDrive/Colab Notebooks/data1.txt\" , 'r' )"
      ],
      "execution_count": 3,
      "outputs": []
    },
    {
      "cell_type": "code",
      "metadata": {
        "colab": {
          "base_uri": "https://localhost:8080/"
        },
        "id": "q2t381oFyqVd",
        "outputId": "dd960aff-18f7-478c-82b5-77578d5c8cde"
      },
      "source": [
        "print(data.read())"
      ],
      "execution_count": 4,
      "outputs": [
        {
          "output_type": "stream",
          "text": [
            "6.1101,17.592\n",
            "5.5277,9.1302\n",
            "8.5186,13.662\n",
            "7.0032,11.854\n",
            "5.8598,6.8233\n",
            "8.3829,11.886\n",
            "7.4764,4.3483\n",
            "8.5781,12\n",
            "6.4862,6.5987\n",
            "5.0546,3.8166\n",
            "5.7107,3.2522\n",
            "14.164,15.505\n",
            "5.734,3.1551\n",
            "8.4084,7.2258\n",
            "5.6407,0.71618\n",
            "5.3794,3.5129\n",
            "6.3654,5.3048\n",
            "5.1301,0.56077\n",
            "6.4296,3.6518\n",
            "7.0708,5.3893\n",
            "6.1891,3.1386\n",
            "20.27,21.767\n",
            "5.4901,4.263\n",
            "6.3261,5.1875\n",
            "5.5649,3.0825\n",
            "18.945,22.638\n",
            "12.828,13.501\n",
            "10.957,7.0467\n",
            "13.176,14.692\n",
            "22.203,24.147\n",
            "5.2524,-1.22\n",
            "6.5894,5.9966\n",
            "9.2482,12.134\n",
            "5.8918,1.8495\n",
            "8.2111,6.5426\n",
            "7.9334,4.5623\n",
            "8.0959,4.1164\n",
            "5.6063,3.3928\n",
            "12.836,10.117\n",
            "6.3534,5.4974\n",
            "5.4069,0.55657\n",
            "6.8825,3.9115\n",
            "11.708,5.3854\n",
            "5.7737,2.4406\n",
            "7.8247,6.7318\n",
            "7.0931,1.0463\n",
            "5.0702,5.1337\n",
            "5.8014,1.844\n",
            "11.7,8.0043\n",
            "5.5416,1.0179\n",
            "7.5402,6.7504\n",
            "5.3077,1.8396\n",
            "7.4239,4.2885\n",
            "7.6031,4.9981\n",
            "6.3328,1.4233\n",
            "6.3589,-1.4211\n",
            "6.2742,2.4756\n",
            "5.6397,4.6042\n",
            "9.3102,3.9624\n",
            "9.4536,5.4141\n",
            "8.8254,5.1694\n",
            "5.1793,-0.74279\n",
            "21.279,17.929\n",
            "14.908,12.054\n",
            "18.959,17.054\n",
            "7.2182,4.8852\n",
            "8.2951,5.7442\n",
            "10.236,7.7754\n",
            "5.4994,1.0173\n",
            "20.341,20.992\n",
            "10.136,6.6799\n",
            "7.3345,4.0259\n",
            "6.0062,1.2784\n",
            "7.2259,3.3411\n",
            "5.0269,-2.6807\n",
            "6.5479,0.29678\n",
            "7.5386,3.8845\n",
            "5.0365,5.7014\n",
            "10.274,6.7526\n",
            "5.1077,2.0576\n",
            "5.7292,0.47953\n",
            "5.1884,0.20421\n",
            "6.3557,0.67861\n",
            "9.7687,7.5435\n",
            "6.5159,5.3436\n",
            "8.5172,4.2415\n",
            "9.1802,6.7981\n",
            "6.002,0.92695\n",
            "5.5204,0.152\n",
            "5.0594,2.8214\n",
            "5.7077,1.8451\n",
            "7.6366,4.2959\n",
            "5.8707,7.2029\n",
            "5.3054,1.9869\n",
            "8.2934,0.14454\n",
            "13.394,9.0551\n",
            "5.4369,0.61705\n",
            "\n"
          ],
          "name": "stdout"
        }
      ]
    },
    {
      "cell_type": "markdown",
      "metadata": {
        "id": "rpxaj1iUyuNl"
      },
      "source": [
        "#繪製初始散佈圖"
      ]
    },
    {
      "cell_type": "code",
      "metadata": {
        "colab": {
          "base_uri": "https://localhost:8080/",
          "height": 295
        },
        "id": "O6GxRQsOyz0s",
        "outputId": "dd843a01-394c-46f7-bc06-3dc58f4dd485"
      },
      "source": [
        "import numpy as np\n",
        "import pylab as pl\n",
        "\n",
        "#引入csv數據格式的文件data1.txt，並把該文件中的每一組數據分別保存在x和y中\n",
        "#在這裡x和y相當於是列表\n",
        "x,y = np.loadtxt(\"/content/drive/MyDrive/Colab Notebooks/data1.txt\", delimiter = \",\", usecols=(0, 1), unpack = True)\n",
        "\n",
        "#繪製散佈圖\n",
        "pl.scatter(x,y, marker = 'x', c = 'red', label='Training Data', alpha=0.5)\n",
        "pl.xlabel('Population of City in 10,000s')\t\t\n",
        "pl.ylabel('Profit in $10,000s')\n",
        "pl.title('Scatter plot of training data') \t\t\t\n",
        "pl.show()"
      ],
      "execution_count": 5,
      "outputs": [
        {
          "output_type": "display_data",
          "data": {
            "image/png": "[encoded data removed]",
            "text/plain": [
              "<Figure size 432x288 with 1 Axes>"
            ]
          },
          "metadata": {
            "needs_background": "light"
          }
        }
      ]
    },
    {
      "cell_type": "markdown",
      "metadata": {
        "id": "X0xthVe-y3F3"
      },
      "source": [
        "#整理數據"
      ]
    },
    {
      "cell_type": "markdown",
      "metadata": {
        "id": "I2kdtdsYCKAg"
      },
      "source": [
        "查看數據集中的行數和列數：97列2行"
      ]
    },
    {
      "cell_type": "code",
      "metadata": {
        "colab": {
          "base_uri": "https://localhost:8080/"
        },
        "id": "l1vgG0UXy3Yd",
        "outputId": "0cd6098f-5503-474e-ff87-f52598ddcbce"
      },
      "source": [
        "import pandas as pd \n",
        "data = pd.read_csv('/content/drive/MyDrive/Colab Notebooks/data1.txt',header = None, names=['Population', 'Profit']) \n",
        "data.shape"
      ],
      "execution_count": 6,
      "outputs": [
        {
          "output_type": "execute_result",
          "data": {
            "text/plain": [
              "(97, 2)"
            ]
          },
          "metadata": {},
          "execution_count": 6
        }
      ]
    },
    {
      "cell_type": "markdown",
      "metadata": {
        "id": "a1gasr8BCYS1"
      },
      "source": [
        "數據集中每一列的數據類型"
      ]
    },
    {
      "cell_type": "code",
      "metadata": {
        "colab": {
          "base_uri": "https://localhost:8080/"
        },
        "id": "P5hVxcVXy-kg",
        "outputId": "2ef6cd2f-b55b-4d68-fd1b-482bc816b98c"
      },
      "source": [
        "data.dtypes"
      ],
      "execution_count": 7,
      "outputs": [
        {
          "output_type": "execute_result",
          "data": {
            "text/plain": [
              "Population    float64\n",
              "Profit        float64\n",
              "dtype: object"
            ]
          },
          "metadata": {},
          "execution_count": 7
        }
      ]
    },
    {
      "cell_type": "markdown",
      "metadata": {
        "id": "iUiKit5sCwmU"
      },
      "source": [
        "判斷資料是否有重複"
      ]
    },
    {
      "cell_type": "code",
      "metadata": {
        "colab": {
          "base_uri": "https://localhost:8080/"
        },
        "id": "Fxh1V0rODSxW",
        "outputId": "1b092691-414d-458b-ada3-172f2d434a67"
      },
      "source": [
        "rep = data.duplicated()\n",
        "rep"
      ],
      "execution_count": 8,
      "outputs": [
        {
          "output_type": "execute_result",
          "data": {
            "text/plain": [
              "0     False\n",
              "1     False\n",
              "2     False\n",
              "3     False\n",
              "4     False\n",
              "      ...  \n",
              "92    False\n",
              "93    False\n",
              "94    False\n",
              "95    False\n",
              "96    False\n",
              "Length: 97, dtype: bool"
            ]
          },
          "metadata": {},
          "execution_count": 8
        }
      ]
    },
    {
      "cell_type": "markdown",
      "metadata": {
        "id": "saF1FiITF5zC"
      },
      "source": [
        "True個數: 0，因此數據集中沒有重複"
      ]
    },
    {
      "cell_type": "code",
      "metadata": {
        "colab": {
          "base_uri": "https://localhost:8080/"
        },
        "id": "XFuIU2jBEel7",
        "outputId": "bf3c5c08-ff36-46fd-c46a-bdfe12b5c745"
      },
      "source": [
        "print('True個數:', np.sum(rep!=0))\n",
        "print('False個數:', np.sum(rep==0))"
      ],
      "execution_count": 9,
      "outputs": [
        {
          "output_type": "stream",
          "text": [
            "True個數: 0\n",
            "False個數: 97\n"
          ],
          "name": "stdout"
        }
      ]
    },
    {
      "cell_type": "markdown",
      "metadata": {
        "id": "JXHXzw0LGcqt"
      },
      "source": [
        "查看個變數中是否有缺失值，結果為無缺失"
      ]
    },
    {
      "cell_type": "code",
      "metadata": {
        "colab": {
          "base_uri": "https://localhost:8080/"
        },
        "id": "fCF_wOfizDnx",
        "outputId": "a467d2bb-bac2-4495-97ab-164dd31a517c"
      },
      "source": [
        "# 判斷各變數中是否存在缺失值\n",
        "data.isnull().any(axis = 0)\n",
        "# 各變數中缺失值的數量\n",
        "data.isnull().sum(axis = 0)"
      ],
      "execution_count": 10,
      "outputs": [
        {
          "output_type": "execute_result",
          "data": {
            "text/plain": [
              "Population    0\n",
              "Profit        0\n",
              "dtype: int64"
            ]
          },
          "metadata": {},
          "execution_count": 10
        }
      ]
    },
    {
      "cell_type": "markdown",
      "metadata": {
        "id": "pUCmvql8GvpB"
      },
      "source": [
        "查看數據集的統計細節"
      ]
    },
    {
      "cell_type": "code",
      "metadata": {
        "colab": {
          "base_uri": "https://localhost:8080/",
          "height": 0
        },
        "id": "h5ej4_X4zFXF",
        "outputId": "d0223542-5cf9-4d6e-dd3f-70ebd7b23588"
      },
      "source": [
        "data.describe()"
      ],
      "execution_count": 11,
      "outputs": [
        {
          "output_type": "execute_result",
          "data": {
            "text/html": [
              "<div>\n",
              "<style scoped>\n",
              "    .dataframe tbody tr th:only-of-type {\n",
              "        vertical-align: middle;\n",
              "    }\n",
              "\n",
              "    .dataframe tbody tr th {\n",
              "        vertical-align: top;\n",
              "    }\n",
              "\n",
              "    .dataframe thead th {\n",
              "        text-align: right;\n",
              "    }\n",
              "</style>\n",
              "<table border=\"1\" class=\"dataframe\">\n",
              "  <thead>\n",
              "    <tr style=\"text-align: right;\">\n",
              "      <th></th>\n",
              "      <th>Population</th>\n",
              "      <th>Profit</th>\n",
              "    </tr>\n",
              "  </thead>\n",
              "  <tbody>\n",
              "    <tr>\n",
              "      <th>count</th>\n",
              "      <td>97.000000</td>\n",
              "      <td>97.000000</td>\n",
              "    </tr>\n",
              "    <tr>\n",
              "      <th>mean</th>\n",
              "      <td>8.159800</td>\n",
              "      <td>5.839135</td>\n",
              "    </tr>\n",
              "    <tr>\n",
              "      <th>std</th>\n",
              "      <td>3.869884</td>\n",
              "      <td>5.510262</td>\n",
              "    </tr>\n",
              "    <tr>\n",
              "      <th>min</th>\n",
              "      <td>5.026900</td>\n",
              "      <td>-2.680700</td>\n",
              "    </tr>\n",
              "    <tr>\n",
              "      <th>25%</th>\n",
              "      <td>5.707700</td>\n",
              "      <td>1.986900</td>\n",
              "    </tr>\n",
              "    <tr>\n",
              "      <th>50%</th>\n",
              "      <td>6.589400</td>\n",
              "      <td>4.562300</td>\n",
              "    </tr>\n",
              "    <tr>\n",
              "      <th>75%</th>\n",
              "      <td>8.578100</td>\n",
              "      <td>7.046700</td>\n",
              "    </tr>\n",
              "    <tr>\n",
              "      <th>max</th>\n",
              "      <td>22.203000</td>\n",
              "      <td>24.147000</td>\n",
              "    </tr>\n",
              "  </tbody>\n",
              "</table>\n",
              "</div>"
            ],
            "text/plain": [
              "       Population     Profit\n",
              "count   97.000000  97.000000\n",
              "mean     8.159800   5.839135\n",
              "std      3.869884   5.510262\n",
              "min      5.026900  -2.680700\n",
              "25%      5.707700   1.986900\n",
              "50%      6.589400   4.562300\n",
              "75%      8.578100   7.046700\n",
              "max     22.203000  24.147000"
            ]
          },
          "metadata": {},
          "execution_count": 11
        }
      ]
    },
    {
      "cell_type": "markdown",
      "metadata": {
        "id": "rhJ1OqOrHIE5"
      },
      "source": [
        "製作表格型的數據結構"
      ]
    },
    {
      "cell_type": "code",
      "metadata": {
        "colab": {
          "base_uri": "https://localhost:8080/",
          "height": 0
        },
        "id": "jUDkQVmWzIV-",
        "outputId": "2f4d5c02-a55a-4fd2-a589-03e13c3018a6"
      },
      "source": [
        "dic = {\n",
        "    \"Population\": x, \n",
        "    \"Profit\": y,\n",
        "}\n",
        "df = pd.DataFrame(dic)\n",
        "df"
      ],
      "execution_count": 12,
      "outputs": [
        {
          "output_type": "execute_result",
          "data": {
            "text/html": [
              "<div>\n",
              "<style scoped>\n",
              "    .dataframe tbody tr th:only-of-type {\n",
              "        vertical-align: middle;\n",
              "    }\n",
              "\n",
              "    .dataframe tbody tr th {\n",
              "        vertical-align: top;\n",
              "    }\n",
              "\n",
              "    .dataframe thead th {\n",
              "        text-align: right;\n",
              "    }\n",
              "</style>\n",
              "<table border=\"1\" class=\"dataframe\">\n",
              "  <thead>\n",
              "    <tr style=\"text-align: right;\">\n",
              "      <th></th>\n",
              "      <th>Population</th>\n",
              "      <th>Profit</th>\n",
              "    </tr>\n",
              "  </thead>\n",
              "  <tbody>\n",
              "    <tr>\n",
              "      <th>0</th>\n",
              "      <td>6.1101</td>\n",
              "      <td>17.59200</td>\n",
              "    </tr>\n",
              "    <tr>\n",
              "      <th>1</th>\n",
              "      <td>5.5277</td>\n",
              "      <td>9.13020</td>\n",
              "    </tr>\n",
              "    <tr>\n",
              "      <th>2</th>\n",
              "      <td>8.5186</td>\n",
              "      <td>13.66200</td>\n",
              "    </tr>\n",
              "    <tr>\n",
              "      <th>3</th>\n",
              "      <td>7.0032</td>\n",
              "      <td>11.85400</td>\n",
              "    </tr>\n",
              "    <tr>\n",
              "      <th>4</th>\n",
              "      <td>5.8598</td>\n",
              "      <td>6.82330</td>\n",
              "    </tr>\n",
              "    <tr>\n",
              "      <th>...</th>\n",
              "      <td>...</td>\n",
              "      <td>...</td>\n",
              "    </tr>\n",
              "    <tr>\n",
              "      <th>92</th>\n",
              "      <td>5.8707</td>\n",
              "      <td>7.20290</td>\n",
              "    </tr>\n",
              "    <tr>\n",
              "      <th>93</th>\n",
              "      <td>5.3054</td>\n",
              "      <td>1.98690</td>\n",
              "    </tr>\n",
              "    <tr>\n",
              "      <th>94</th>\n",
              "      <td>8.2934</td>\n",
              "      <td>0.14454</td>\n",
              "    </tr>\n",
              "    <tr>\n",
              "      <th>95</th>\n",
              "      <td>13.3940</td>\n",
              "      <td>9.05510</td>\n",
              "    </tr>\n",
              "    <tr>\n",
              "      <th>96</th>\n",
              "      <td>5.4369</td>\n",
              "      <td>0.61705</td>\n",
              "    </tr>\n",
              "  </tbody>\n",
              "</table>\n",
              "<p>97 rows × 2 columns</p>\n",
              "</div>"
            ],
            "text/plain": [
              "    Population    Profit\n",
              "0       6.1101  17.59200\n",
              "1       5.5277   9.13020\n",
              "2       8.5186  13.66200\n",
              "3       7.0032  11.85400\n",
              "4       5.8598   6.82330\n",
              "..         ...       ...\n",
              "92      5.8707   7.20290\n",
              "93      5.3054   1.98690\n",
              "94      8.2934   0.14454\n",
              "95     13.3940   9.05510\n",
              "96      5.4369   0.61705\n",
              "\n",
              "[97 rows x 2 columns]"
            ]
          },
          "metadata": {},
          "execution_count": 12
        }
      ]
    },
    {
      "cell_type": "code",
      "metadata": {
        "colab": {
          "base_uri": "https://localhost:8080/",
          "height": 0
        },
        "id": "kBoTkSKpzKIp",
        "outputId": "2276a3ac-f2d1-41ca-8ea6-b2a545d53b60"
      },
      "source": [
        "#展示前五橫列的資料\n",
        "df.head()"
      ],
      "execution_count": 13,
      "outputs": [
        {
          "output_type": "execute_result",
          "data": {
            "text/html": [
              "<div>\n",
              "<style scoped>\n",
              "    .dataframe tbody tr th:only-of-type {\n",
              "        vertical-align: middle;\n",
              "    }\n",
              "\n",
              "    .dataframe tbody tr th {\n",
              "        vertical-align: top;\n",
              "    }\n",
              "\n",
              "    .dataframe thead th {\n",
              "        text-align: right;\n",
              "    }\n",
              "</style>\n",
              "<table border=\"1\" class=\"dataframe\">\n",
              "  <thead>\n",
              "    <tr style=\"text-align: right;\">\n",
              "      <th></th>\n",
              "      <th>Population</th>\n",
              "      <th>Profit</th>\n",
              "    </tr>\n",
              "  </thead>\n",
              "  <tbody>\n",
              "    <tr>\n",
              "      <th>0</th>\n",
              "      <td>6.1101</td>\n",
              "      <td>17.5920</td>\n",
              "    </tr>\n",
              "    <tr>\n",
              "      <th>1</th>\n",
              "      <td>5.5277</td>\n",
              "      <td>9.1302</td>\n",
              "    </tr>\n",
              "    <tr>\n",
              "      <th>2</th>\n",
              "      <td>8.5186</td>\n",
              "      <td>13.6620</td>\n",
              "    </tr>\n",
              "    <tr>\n",
              "      <th>3</th>\n",
              "      <td>7.0032</td>\n",
              "      <td>11.8540</td>\n",
              "    </tr>\n",
              "    <tr>\n",
              "      <th>4</th>\n",
              "      <td>5.8598</td>\n",
              "      <td>6.8233</td>\n",
              "    </tr>\n",
              "  </tbody>\n",
              "</table>\n",
              "</div>"
            ],
            "text/plain": [
              "   Population   Profit\n",
              "0      6.1101  17.5920\n",
              "1      5.5277   9.1302\n",
              "2      8.5186  13.6620\n",
              "3      7.0032  11.8540\n",
              "4      5.8598   6.8233"
            ]
          },
          "metadata": {},
          "execution_count": 13
        }
      ]
    },
    {
      "cell_type": "markdown",
      "metadata": {
        "id": "ymqcHZ5-zPKs"
      },
      "source": [
        "#計算 Mahalanobis distance─找出異常值並去除\n",
        "Mahalanobis distance是多變量空間中兩點之間的距離。\n",
        "它通常用於多變量的統計分析中查找異常值。"
      ]
    },
    {
      "cell_type": "code",
      "metadata": {
        "colab": {
          "base_uri": "https://localhost:8080/",
          "height": 205
        },
        "id": "PZiDk1pozPyi",
        "outputId": "73c8fb8a-2adc-4ee6-b2b2-27c78b22f3a1"
      },
      "source": [
        "#定義函數去計算 Mahalanobis distance\n",
        "def mahalanobis(x=None, data=None, cov=None):\n",
        "\n",
        "    x_mu = x - np.mean(data)\n",
        "    if not cov:\n",
        "        cov = np.cov(data.values.T)\n",
        "    inv_covmat = np.linalg.inv(cov)\n",
        "    left = np.dot(x_mu, inv_covmat)\n",
        "    mahal = np.dot(left, x_mu.T)\n",
        "    return mahal.diagonal()\n",
        "\n",
        "#在包含每行 Mahalanobis distance 的數據框中新增兩個新列\n",
        "df['mahalanobis'] = mahalanobis(x=df, data=df[['Population', 'Profit']])\n",
        "\n",
        "#展示前五橫列的資料\n",
        "df.head()"
      ],
      "execution_count": 14,
      "outputs": [
        {
          "output_type": "execute_result",
          "data": {
            "text/html": [
              "<div>\n",
              "<style scoped>\n",
              "    .dataframe tbody tr th:only-of-type {\n",
              "        vertical-align: middle;\n",
              "    }\n",
              "\n",
              "    .dataframe tbody tr th {\n",
              "        vertical-align: top;\n",
              "    }\n",
              "\n",
              "    .dataframe thead th {\n",
              "        text-align: right;\n",
              "    }\n",
              "</style>\n",
              "<table border=\"1\" class=\"dataframe\">\n",
              "  <thead>\n",
              "    <tr style=\"text-align: right;\">\n",
              "      <th></th>\n",
              "      <th>Population</th>\n",
              "      <th>Profit</th>\n",
              "      <th>mahalanobis</th>\n",
              "    </tr>\n",
              "  </thead>\n",
              "  <tbody>\n",
              "    <tr>\n",
              "      <th>0</th>\n",
              "      <td>6.1101</td>\n",
              "      <td>17.5920</td>\n",
              "      <td>22.562492</td>\n",
              "    </tr>\n",
              "    <tr>\n",
              "      <th>1</th>\n",
              "      <td>5.5277</td>\n",
              "      <td>9.1302</td>\n",
              "      <td>5.034283</td>\n",
              "    </tr>\n",
              "    <tr>\n",
              "      <th>2</th>\n",
              "      <td>8.5186</td>\n",
              "      <td>13.6620</td>\n",
              "      <td>6.052793</td>\n",
              "    </tr>\n",
              "    <tr>\n",
              "      <th>3</th>\n",
              "      <td>7.0032</td>\n",
              "      <td>11.8540</td>\n",
              "      <td>6.133395</td>\n",
              "    </tr>\n",
              "    <tr>\n",
              "      <th>4</th>\n",
              "      <td>5.8598</td>\n",
              "      <td>6.8233</td>\n",
              "      <td>1.889511</td>\n",
              "    </tr>\n",
              "  </tbody>\n",
              "</table>\n",
              "</div>"
            ],
            "text/plain": [
              "   Population   Profit  mahalanobis\n",
              "0      6.1101  17.5920    22.562492\n",
              "1      5.5277   9.1302     5.034283\n",
              "2      8.5186  13.6620     6.052793\n",
              "3      7.0032  11.8540     6.133395\n",
              "4      5.8598   6.8233     1.889511"
            ]
          },
          "metadata": {},
          "execution_count": 14
        }
      ]
    },
    {
      "cell_type": "markdown",
      "metadata": {
        "id": "WRmtpC2yzY6Y"
      },
      "source": [
        "對應自由度為(k-1)的Mahalanobis distance的卡方統計量之 p 值，其中 k = 變量數。因此，在這種情況下，我們將使用 2-1 = 1 的自由度。"
      ]
    },
    {
      "cell_type": "code",
      "metadata": {
        "colab": {
          "base_uri": "https://localhost:8080/",
          "height": 421
        },
        "id": "pYddXSJkzZpT",
        "outputId": "32b9289c-d03d-4617-a34c-96ad2260a9a5"
      },
      "source": [
        "from scipy.stats import chi2\n",
        "\n",
        "#計算每個 Mahalanobis distance 的 p 值\n",
        "df['p'] = 1 - chi2.cdf(df['mahalanobis'], 1)\n",
        "\n",
        "#展示前五橫列含有 p 值的資料\n",
        "df"
      ],
      "execution_count": 15,
      "outputs": [
        {
          "output_type": "execute_result",
          "data": {
            "text/html": [
              "<div>\n",
              "<style scoped>\n",
              "    .dataframe tbody tr th:only-of-type {\n",
              "        vertical-align: middle;\n",
              "    }\n",
              "\n",
              "    .dataframe tbody tr th {\n",
              "        vertical-align: top;\n",
              "    }\n",
              "\n",
              "    .dataframe thead th {\n",
              "        text-align: right;\n",
              "    }\n",
              "</style>\n",
              "<table border=\"1\" class=\"dataframe\">\n",
              "  <thead>\n",
              "    <tr style=\"text-align: right;\">\n",
              "      <th></th>\n",
              "      <th>Population</th>\n",
              "      <th>Profit</th>\n",
              "      <th>mahalanobis</th>\n",
              "      <th>p</th>\n",
              "    </tr>\n",
              "  </thead>\n",
              "  <tbody>\n",
              "    <tr>\n",
              "      <th>0</th>\n",
              "      <td>6.1101</td>\n",
              "      <td>17.59200</td>\n",
              "      <td>22.562492</td>\n",
              "      <td>0.000002</td>\n",
              "    </tr>\n",
              "    <tr>\n",
              "      <th>1</th>\n",
              "      <td>5.5277</td>\n",
              "      <td>9.13020</td>\n",
              "      <td>5.034283</td>\n",
              "      <td>0.024850</td>\n",
              "    </tr>\n",
              "    <tr>\n",
              "      <th>2</th>\n",
              "      <td>8.5186</td>\n",
              "      <td>13.66200</td>\n",
              "      <td>6.052793</td>\n",
              "      <td>0.013884</td>\n",
              "    </tr>\n",
              "    <tr>\n",
              "      <th>3</th>\n",
              "      <td>7.0032</td>\n",
              "      <td>11.85400</td>\n",
              "      <td>6.133395</td>\n",
              "      <td>0.013265</td>\n",
              "    </tr>\n",
              "    <tr>\n",
              "      <th>4</th>\n",
              "      <td>5.8598</td>\n",
              "      <td>6.82330</td>\n",
              "      <td>1.889511</td>\n",
              "      <td>0.169257</td>\n",
              "    </tr>\n",
              "    <tr>\n",
              "      <th>...</th>\n",
              "      <td>...</td>\n",
              "      <td>...</td>\n",
              "      <td>...</td>\n",
              "      <td>...</td>\n",
              "    </tr>\n",
              "    <tr>\n",
              "      <th>92</th>\n",
              "      <td>5.8707</td>\n",
              "      <td>7.20290</td>\n",
              "      <td>2.203157</td>\n",
              "      <td>0.137728</td>\n",
              "    </tr>\n",
              "    <tr>\n",
              "      <th>93</th>\n",
              "      <td>5.3054</td>\n",
              "      <td>1.98690</td>\n",
              "      <td>0.566113</td>\n",
              "      <td>0.451808</td>\n",
              "    </tr>\n",
              "    <tr>\n",
              "      <th>94</th>\n",
              "      <td>8.2934</td>\n",
              "      <td>0.14454</td>\n",
              "      <td>3.789003</td>\n",
              "      <td>0.051590</td>\n",
              "    </tr>\n",
              "    <tr>\n",
              "      <th>95</th>\n",
              "      <td>13.3940</td>\n",
              "      <td>9.05510</td>\n",
              "      <td>2.843231</td>\n",
              "      <td>0.091760</td>\n",
              "    </tr>\n",
              "    <tr>\n",
              "      <th>96</th>\n",
              "      <td>5.4369</td>\n",
              "      <td>0.61705</td>\n",
              "      <td>0.925590</td>\n",
              "      <td>0.336012</td>\n",
              "    </tr>\n",
              "  </tbody>\n",
              "</table>\n",
              "<p>97 rows × 4 columns</p>\n",
              "</div>"
            ],
            "text/plain": [
              "    Population    Profit  mahalanobis         p\n",
              "0       6.1101  17.59200    22.562492  0.000002\n",
              "1       5.5277   9.13020     5.034283  0.024850\n",
              "2       8.5186  13.66200     6.052793  0.013884\n",
              "3       7.0032  11.85400     6.133395  0.013265\n",
              "4       5.8598   6.82330     1.889511  0.169257\n",
              "..         ...       ...          ...       ...\n",
              "92      5.8707   7.20290     2.203157  0.137728\n",
              "93      5.3054   1.98690     0.566113  0.451808\n",
              "94      8.2934   0.14454     3.789003  0.051590\n",
              "95     13.3940   9.05510     2.843231  0.091760\n",
              "96      5.4369   0.61705     0.925590  0.336012\n",
              "\n",
              "[97 rows x 4 columns]"
            ]
          },
          "metadata": {},
          "execution_count": 15
        }
      ]
    },
    {
      "cell_type": "markdown",
      "metadata": {
        "id": "cKl6Dpk7zeEq"
      },
      "source": [
        "通常，小於 0.001 的 p 值 被視為異常值。 我們可以看到第一個觀測值是數據集中的異常值，因為它的 p 值小於 0.001。\n"
      ]
    },
    {
      "cell_type": "code",
      "metadata": {
        "colab": {
          "base_uri": "https://localhost:8080/"
        },
        "id": "p_ojrT4gzcaX",
        "outputId": "3f7cee36-6e81-4377-fad8-2d09a4c6410d"
      },
      "source": [
        "#找出異常值的數據位置\n",
        "print(np.where(df['p']<=0.001))"
      ],
      "execution_count": 16,
      "outputs": [
        {
          "output_type": "stream",
          "text": [
            "(array([ 0, 29, 62]),)\n"
          ],
          "name": "stdout"
        }
      ]
    },
    {
      "cell_type": "markdown",
      "metadata": {
        "id": "tkwV2PcnKKbK"
      },
      "source": [
        "刪除異常值"
      ]
    },
    {
      "cell_type": "code",
      "metadata": {
        "colab": {
          "base_uri": "https://localhost:8080/",
          "height": 421
        },
        "id": "ZMjQtcRpzhCk",
        "outputId": "e2389c70-b632-461c-d16e-76f4036d9791"
      },
      "source": [
        "cleaned = df.drop(index=(df.loc[(df['p']<=0.001)].index))\n",
        "cleaned"
      ],
      "execution_count": 17,
      "outputs": [
        {
          "output_type": "execute_result",
          "data": {
            "text/html": [
              "<div>\n",
              "<style scoped>\n",
              "    .dataframe tbody tr th:only-of-type {\n",
              "        vertical-align: middle;\n",
              "    }\n",
              "\n",
              "    .dataframe tbody tr th {\n",
              "        vertical-align: top;\n",
              "    }\n",
              "\n",
              "    .dataframe thead th {\n",
              "        text-align: right;\n",
              "    }\n",
              "</style>\n",
              "<table border=\"1\" class=\"dataframe\">\n",
              "  <thead>\n",
              "    <tr style=\"text-align: right;\">\n",
              "      <th></th>\n",
              "      <th>Population</th>\n",
              "      <th>Profit</th>\n",
              "      <th>mahalanobis</th>\n",
              "      <th>p</th>\n",
              "    </tr>\n",
              "  </thead>\n",
              "  <tbody>\n",
              "    <tr>\n",
              "      <th>1</th>\n",
              "      <td>5.5277</td>\n",
              "      <td>9.13020</td>\n",
              "      <td>5.034283</td>\n",
              "      <td>0.024850</td>\n",
              "    </tr>\n",
              "    <tr>\n",
              "      <th>2</th>\n",
              "      <td>8.5186</td>\n",
              "      <td>13.66200</td>\n",
              "      <td>6.052793</td>\n",
              "      <td>0.013884</td>\n",
              "    </tr>\n",
              "    <tr>\n",
              "      <th>3</th>\n",
              "      <td>7.0032</td>\n",
              "      <td>11.85400</td>\n",
              "      <td>6.133395</td>\n",
              "      <td>0.013265</td>\n",
              "    </tr>\n",
              "    <tr>\n",
              "      <th>4</th>\n",
              "      <td>5.8598</td>\n",
              "      <td>6.82330</td>\n",
              "      <td>1.889511</td>\n",
              "      <td>0.169257</td>\n",
              "    </tr>\n",
              "    <tr>\n",
              "      <th>5</th>\n",
              "      <td>8.3829</td>\n",
              "      <td>11.88600</td>\n",
              "      <td>3.696890</td>\n",
              "      <td>0.054514</td>\n",
              "    </tr>\n",
              "    <tr>\n",
              "      <th>...</th>\n",
              "      <td>...</td>\n",
              "      <td>...</td>\n",
              "      <td>...</td>\n",
              "      <td>...</td>\n",
              "    </tr>\n",
              "    <tr>\n",
              "      <th>92</th>\n",
              "      <td>5.8707</td>\n",
              "      <td>7.20290</td>\n",
              "      <td>2.203157</td>\n",
              "      <td>0.137728</td>\n",
              "    </tr>\n",
              "    <tr>\n",
              "      <th>93</th>\n",
              "      <td>5.3054</td>\n",
              "      <td>1.98690</td>\n",
              "      <td>0.566113</td>\n",
              "      <td>0.451808</td>\n",
              "    </tr>\n",
              "    <tr>\n",
              "      <th>94</th>\n",
              "      <td>8.2934</td>\n",
              "      <td>0.14454</td>\n",
              "      <td>3.789003</td>\n",
              "      <td>0.051590</td>\n",
              "    </tr>\n",
              "    <tr>\n",
              "      <th>95</th>\n",
              "      <td>13.3940</td>\n",
              "      <td>9.05510</td>\n",
              "      <td>2.843231</td>\n",
              "      <td>0.091760</td>\n",
              "    </tr>\n",
              "    <tr>\n",
              "      <th>96</th>\n",
              "      <td>5.4369</td>\n",
              "      <td>0.61705</td>\n",
              "      <td>0.925590</td>\n",
              "      <td>0.336012</td>\n",
              "    </tr>\n",
              "  </tbody>\n",
              "</table>\n",
              "<p>94 rows × 4 columns</p>\n",
              "</div>"
            ],
            "text/plain": [
              "    Population    Profit  mahalanobis         p\n",
              "1       5.5277   9.13020     5.034283  0.024850\n",
              "2       8.5186  13.66200     6.052793  0.013884\n",
              "3       7.0032  11.85400     6.133395  0.013265\n",
              "4       5.8598   6.82330     1.889511  0.169257\n",
              "5       8.3829  11.88600     3.696890  0.054514\n",
              "..         ...       ...          ...       ...\n",
              "92      5.8707   7.20290     2.203157  0.137728\n",
              "93      5.3054   1.98690     0.566113  0.451808\n",
              "94      8.2934   0.14454     3.789003  0.051590\n",
              "95     13.3940   9.05510     2.843231  0.091760\n",
              "96      5.4369   0.61705     0.925590  0.336012\n",
              "\n",
              "[94 rows x 4 columns]"
            ]
          },
          "metadata": {},
          "execution_count": 17
        }
      ]
    },
    {
      "cell_type": "markdown",
      "metadata": {
        "id": "jsTl0ypBzlI4"
      },
      "source": [
        "刪除異常值後繪製的散佈圖"
      ]
    },
    {
      "cell_type": "code",
      "metadata": {
        "colab": {
          "base_uri": "https://localhost:8080/",
          "height": 295
        },
        "id": "xtlk73Bozlf5",
        "outputId": "b4eca2d6-e629-49e7-ff66-af7f66f698d9"
      },
      "source": [
        "#繪製散佈圖\n",
        "pl.scatter(cleaned['Population'],cleaned['Profit'], marker = 'x', c = 'red', label='Training Data', alpha=0.5)\n",
        "pl.xlabel('Population of City in 10,000s')\t\t\n",
        "pl.ylabel('Profit in $10,000s')\n",
        "pl.title('Scatter plot of training data without outliers') \t\t\t\n",
        "pl.show()"
      ],
      "execution_count": 18,
      "outputs": [
        {
          "output_type": "display_data",
          "data": {
            "image/png": "[encoded data removed]",
            "text/plain": [
              "<Figure size 432x288 with 1 Axes>"
            ]
          },
          "metadata": {
            "needs_background": "light"
          }
        }
      ]
    },
    {
      "cell_type": "markdown",
      "metadata": {
        "id": "TWcZKTGmz1tc"
      },
      "source": [
        "#原始的Cost\n",
        "在運行梯度下降算法(Gradient Descent)以最小化成本（預測誤差）之前，先確定當前成本。"
      ]
    },
    {
      "cell_type": "markdown",
      "metadata": {
        "id": "JHMVyulpNgAb"
      },
      "source": [
        "製作去除異常值的表格行數據結構"
      ]
    },
    {
      "cell_type": "code",
      "metadata": {
        "colab": {
          "base_uri": "https://localhost:8080/",
          "height": 0
        },
        "id": "eSJ9U2MNz1_Y",
        "outputId": "0fa57a84-bdd4-410a-dc86-2e6bc01f6d0d"
      },
      "source": [
        "df21 = cleaned['Population'].values #df21為去除異常值Population的數值\n",
        "df22 = cleaned['Profit'].values #df22為去除異常值Profit的數值\n",
        "\n",
        "dic = {\n",
        "    \"Population\": df21, \n",
        "    \"Profit\": df22,\n",
        "}\n",
        "df1 = pd.DataFrame(dic)\n",
        "df1"
      ],
      "execution_count": 19,
      "outputs": [
        {
          "output_type": "execute_result",
          "data": {
            "text/html": [
              "<div>\n",
              "<style scoped>\n",
              "    .dataframe tbody tr th:only-of-type {\n",
              "        vertical-align: middle;\n",
              "    }\n",
              "\n",
              "    .dataframe tbody tr th {\n",
              "        vertical-align: top;\n",
              "    }\n",
              "\n",
              "    .dataframe thead th {\n",
              "        text-align: right;\n",
              "    }\n",
              "</style>\n",
              "<table border=\"1\" class=\"dataframe\">\n",
              "  <thead>\n",
              "    <tr style=\"text-align: right;\">\n",
              "      <th></th>\n",
              "      <th>Population</th>\n",
              "      <th>Profit</th>\n",
              "    </tr>\n",
              "  </thead>\n",
              "  <tbody>\n",
              "    <tr>\n",
              "      <th>0</th>\n",
              "      <td>5.5277</td>\n",
              "      <td>9.13020</td>\n",
              "    </tr>\n",
              "    <tr>\n",
              "      <th>1</th>\n",
              "      <td>8.5186</td>\n",
              "      <td>13.66200</td>\n",
              "    </tr>\n",
              "    <tr>\n",
              "      <th>2</th>\n",
              "      <td>7.0032</td>\n",
              "      <td>11.85400</td>\n",
              "    </tr>\n",
              "    <tr>\n",
              "      <th>3</th>\n",
              "      <td>5.8598</td>\n",
              "      <td>6.82330</td>\n",
              "    </tr>\n",
              "    <tr>\n",
              "      <th>4</th>\n",
              "      <td>8.3829</td>\n",
              "      <td>11.88600</td>\n",
              "    </tr>\n",
              "    <tr>\n",
              "      <th>...</th>\n",
              "      <td>...</td>\n",
              "      <td>...</td>\n",
              "    </tr>\n",
              "    <tr>\n",
              "      <th>89</th>\n",
              "      <td>5.8707</td>\n",
              "      <td>7.20290</td>\n",
              "    </tr>\n",
              "    <tr>\n",
              "      <th>90</th>\n",
              "      <td>5.3054</td>\n",
              "      <td>1.98690</td>\n",
              "    </tr>\n",
              "    <tr>\n",
              "      <th>91</th>\n",
              "      <td>8.2934</td>\n",
              "      <td>0.14454</td>\n",
              "    </tr>\n",
              "    <tr>\n",
              "      <th>92</th>\n",
              "      <td>13.3940</td>\n",
              "      <td>9.05510</td>\n",
              "    </tr>\n",
              "    <tr>\n",
              "      <th>93</th>\n",
              "      <td>5.4369</td>\n",
              "      <td>0.61705</td>\n",
              "    </tr>\n",
              "  </tbody>\n",
              "</table>\n",
              "<p>94 rows × 2 columns</p>\n",
              "</div>"
            ],
            "text/plain": [
              "    Population    Profit\n",
              "0       5.5277   9.13020\n",
              "1       8.5186  13.66200\n",
              "2       7.0032  11.85400\n",
              "3       5.8598   6.82330\n",
              "4       8.3829  11.88600\n",
              "..         ...       ...\n",
              "89      5.8707   7.20290\n",
              "90      5.3054   1.98690\n",
              "91      8.2934   0.14454\n",
              "92     13.3940   9.05510\n",
              "93      5.4369   0.61705\n",
              "\n",
              "[94 rows x 2 columns]"
            ]
          },
          "metadata": {},
          "execution_count": 19
        }
      ]
    },
    {
      "cell_type": "markdown",
      "metadata": {
        "id": "ytOSXBhvRI4_"
      },
      "source": [
        "當前成本為 26.638857756523407"
      ]
    },
    {
      "cell_type": "code",
      "metadata": {
        "colab": {
          "base_uri": "https://localhost:8080/"
        },
        "id": "JgtvY3-Pz5M9",
        "outputId": "b0c91c57-5456-4574-8b14-da8d2be0c50c"
      },
      "source": [
        "m = len(df22) \n",
        "df21 = np.append(np.ones([m,1]), df21.reshape(m,1), axis=1) #將df21轉換成矩陣，即二維數組\n",
        "df22 = df22.reshape(m,1)                 #將df22轉換成矩陣，即二維數組\n",
        "theta = np.zeros([2,1])            #將初始係數設置為零\n",
        "\n",
        "#定義函數計算Cost\n",
        "def computeCost(df1_Population,df1_Profit,theta):\n",
        "    '''\n",
        "    This function takes in the x and y matrices as well as the \n",
        "    initial theta values(coefficients) and returns the cost(error of             \n",
        "    prediction)\n",
        "    '''\n",
        "    m = len(df22)              #這是訓練集的長度\n",
        "    h = df21.dot(theta)        #假設\n",
        "    J = 1/(2*m)*(np.sum((h-df22)**2))             #The Cost function\n",
        "    return J                #返回 the Cost\n",
        "\n",
        "cost = computeCost(df21, df22, theta)  #調用該函數並傳入 df21、df22 和 theta 的值以計算成本。\n",
        "print(cost)                   #列出 the Cost"
      ],
      "execution_count": 20,
      "outputs": [
        {
          "output_type": "stream",
          "text": [
            "26.638857756523407\n"
          ],
          "name": "stdout"
        }
      ]
    },
    {
      "cell_type": "markdown",
      "metadata": {
        "id": "c2x9QxIv0aKh"
      },
      "source": [
        "#Gradient Descent"
      ]
    },
    {
      "cell_type": "code",
      "metadata": {
        "id": "IWZdjQ1m0anp"
      },
      "source": [
        "iter = 1500 ## 經過1500次的調整參數(迭代1500次)\n",
        "alpha = 0.01 ## Learning rate(學習率)\n",
        "\n",
        "def gradientDescent(df21, df22, theta, alpha, iter):\n",
        "    '''\n",
        "    This function takes in the X and y matrices, the initial theta\n",
        "    values(coefficients), the learning rate, and the number of \n",
        "    iterations. The output will be the a new set of coefficient of \n",
        "    the linear regression (theta), optimized for making predictions.\n",
        "    '''   \n",
        "    \n",
        "    J_history = []        #用於存儲每次迭代的成本值的數組\n",
        "    m = len(df22)            #訓練集的長度\n",
        "    \n",
        "    for i in range(iter):             #循環 1500 次迭代\n",
        "        h = df21.dot(theta) # The hypothesis\n",
        "        theta = theta - (alpha/m)*(df21.T.dot(h-df22))   #Gradient descent函數                                       \n",
        "        J_history.append(computeCost(df21, df22, theta))  #附加成本到 the J_history 數組\n",
        "\n",
        "    return theta, J_history,    #返回 theta 和 J_history 數組的最終值"
      ],
      "execution_count": 21,
      "outputs": []
    },
    {
      "cell_type": "markdown",
      "metadata": {
        "id": "GR3gkpUCSYQb"
      },
      "source": [
        "新係數是 -3.94083094 和 1.19118974"
      ]
    },
    {
      "cell_type": "code",
      "metadata": {
        "colab": {
          "base_uri": "https://localhost:8080/"
        },
        "id": "CbYoJVIP0rNv",
        "outputId": "c22234b7-7a97-4a4a-8f6d-8f479008311c"
      },
      "source": [
        "new_theta, J_history = gradientDescent(df21, df22, theta, alpha, iter)\n",
        "print(new_theta)"
      ],
      "execution_count": 22,
      "outputs": [
        {
          "output_type": "stream",
          "text": [
            "[[-3.94083094]\n",
            " [ 1.19118974]]\n"
          ],
          "name": "stdout"
        }
      ]
    },
    {
      "cell_type": "markdown",
      "metadata": {
        "id": "0MQU3dIo0tgR"
      },
      "source": [
        "#新的Cost"
      ]
    },
    {
      "cell_type": "markdown",
      "metadata": {
        "id": "8MkevlLgS7DO"
      },
      "source": [
        "經過Grdient Descent後得到的最小Cost為 3.4623064012999096"
      ]
    },
    {
      "cell_type": "code",
      "metadata": {
        "colab": {
          "base_uri": "https://localhost:8080/"
        },
        "id": "gcUln9z00uMw",
        "outputId": "6a4178ea-57ab-44bf-9701-5ac73af4c9d8"
      },
      "source": [
        "new_cost = computeCost(df21, df22, new_theta)\n",
        "print('Minimized cost:',new_cost)"
      ],
      "execution_count": 23,
      "outputs": [
        {
          "output_type": "stream",
          "text": [
            "Minimized cost: 3.4623064012999096\n"
          ],
          "name": "stdout"
        }
      ]
    },
    {
      "cell_type": "markdown",
      "metadata": {
        "id": "iH1AuVN5TSxk"
      },
      "source": [
        "繪製每次迭代的Cost"
      ]
    },
    {
      "cell_type": "code",
      "metadata": {
        "colab": {
          "base_uri": "https://localhost:8080/",
          "height": 295
        },
        "id": "CSIAepv30wXZ",
        "outputId": "695a07c6-6c02-4b50-a213-056ff95f77f4"
      },
      "source": [
        "pl.plot(J_history)\n",
        "pl.xlabel('No. of iterations')\n",
        "pl.ylabel('Cost')\n",
        "pl.title('Cost per iteration')\n",
        "pl.show()"
      ],
      "execution_count": 24,
      "outputs": [
        {
          "output_type": "display_data",
          "data": {
            "image/png": "[encoded data removed]",
            "text/plain": [
              "<Figure size 432x288 with 1 Axes>"
            ]
          },
          "metadata": {
            "needs_background": "light"
          }
        }
      ]
    },
    {
      "cell_type": "markdown",
      "metadata": {
        "id": "qPrIvxY-TX8W"
      },
      "source": [
        "#繪製線性擬合\n",
        "得知參數(斜率和截距)後，在散佈圖上繪製線性擬合。"
      ]
    },
    {
      "cell_type": "code",
      "metadata": {
        "colab": {
          "base_uri": "https://localhost:8080/",
          "height": 312
        },
        "id": "uiX5bfuT00dT",
        "outputId": "b19bd377-ee72-4fe7-9bc9-1cc92b764549"
      },
      "source": [
        "pl.scatter(df21[:,1].reshape([m,1]),df22, c='red', marker='x', label='Training Data', alpha = 0.5)\n",
        "pl.plot(df21[:,1].reshape([m,1]), np.dot(df21, new_theta), label='Linear Regression')\n",
        "pl.ylabel('Profit in 10,000s')\n",
        "pl.xlabel('Population of City in 10,000s')\n",
        "pl.legend()\n",
        "pl.title('Training Data with Linear Regression Fit')\n",
        "pl.text(10, 6, r'Profit = -3.94083094 + 1.19118974 * Population', fontsize=9)"
      ],
      "execution_count": 25,
      "outputs": [
        {
          "output_type": "execute_result",
          "data": {
            "text/plain": [
              "Text(10, 6, 'Profit = -3.94083094 + 1.19118974 * Population')"
            ]
          },
          "metadata": {},
          "execution_count": 25
        },
        {
          "output_type": "display_data",
          "data": {
            "image/png": "[encoded data removed]",
            "text/plain": [
              "<Figure size 432x288 with 1 Axes>"
            ]
          },
          "metadata": {
            "needs_background": "light"
          }
        }
      ]
    }
  ]
}